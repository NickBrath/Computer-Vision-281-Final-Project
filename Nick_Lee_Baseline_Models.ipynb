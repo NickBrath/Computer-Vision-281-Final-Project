{
  "nbformat": 4,
  "nbformat_minor": 0,
  "metadata": {
    "colab": {
      "provenance": [],
      "collapsed_sections": [
        "LcP4stAmyLcQ",
        "wnQ4d_EziVfG",
        "f5ODxfuqp1Sc",
        "0f9RRgKZpkug"
      ],
      "include_colab_link": true
    },
    "kernelspec": {
      "name": "python3",
      "display_name": "Python 3"
    },
    "language_info": {
      "name": "python"
    }
  },
  "cells": [
    {
      "cell_type": "markdown",
      "metadata": {
        "id": "view-in-github",
        "colab_type": "text"
      },
      "source": [
        "<a href=\"https://colab.research.google.com/github/NickBrath/Computer-Vision-281-Final-Project/blob/main/Nick_Lee_Baseline_Models.ipynb\" target=\"_parent\"><img src=\"https://colab.research.google.com/assets/colab-badge.svg\" alt=\"Open In Colab\"/></a>"
      ]
    },
    {
      "cell_type": "markdown",
      "source": [
        "# ***Computer Vision Final Project: Breast Cancer Tumor Classification***\n",
        "## Section 1 Spring 2023\n",
        "### Nicholas Lee, Nic Brathwaite, Amir Moayed\n",
        "\n",
        "# Baseline Models"
      ],
      "metadata": {
        "id": "R6oU8VyzdSsd"
      }
    },
    {
      "cell_type": "markdown",
      "source": [
        "Possible features of benign tumors to look for in images: \n",
        "histologically benign [1]\n",
        "\t(adjective) Referring to a lesion that does not meet any criteria of malignancy – e.g., marked cellular atypia, mitosis, disruption of basement membranes, metastasize."
      ],
      "metadata": {
        "id": "xR8Hc9lcdeey"
      }
    },
    {
      "cell_type": "markdown",
      "source": [
        "Consuming TFRecord data\n",
        "Refer to the Loading TFRecords tutorial for an end-to-end example.\n",
        "\n",
        "The tf.data API supports a variety of file formats so that you can process large datasets that do not fit in memory. For example, the TFRecord file format is a simple record-oriented binary format that many TensorFlow applications use for training data. The tf.data.TFRecordDataset class enables you to stream over the contents of one or more TFRecord files as part of an input pipeline."
      ],
      "metadata": {
        "id": "duz3cB0LBAoH"
      }
    },
    {
      "cell_type": "markdown",
      "source": [
        "### Setup"
      ],
      "metadata": {
        "id": "G-NFMvVXdmB1"
      }
    },
    {
      "cell_type": "code",
      "execution_count": 1,
      "metadata": {
        "id": "TuVaK97zc-V0"
      },
      "outputs": [],
      "source": [
        "# Google packages\n",
        "from google.colab import drive\n",
        "from google.colab import files\n",
        "from google.colab.patches import cv2_imshow\n",
        "\n",
        "# base packages\n",
        "import os\n",
        "import warnings\n",
        "import random\n",
        "from datetime import date\n",
        "import re\n",
        "from tqdm.notebook import tqdm # progress bar library\n",
        "import glob\n",
        "\n",
        "# DS packages\n",
        "import pandas as pd\n",
        "import numpy as np\n",
        "import matplotlib.pyplot as plt\n",
        "import matplotlib.image as mpimg\n",
        "import seaborn as sns\n",
        "\n",
        "# image packages\n",
        "import PIL\n",
        "import urllib\n",
        "import cv2\n",
        "from skimage.color import rgb2gray\n",
        "import skimage.io as skio\n",
        "\n",
        "# ML packages\n",
        "import scipy as sc\n",
        "import sklearn as sk\n",
        "import tensorflow as tf\n",
        "\n",
        "%matplotlib inline"
      ]
    },
    {
      "cell_type": "code",
      "source": [
        "pd.options.display.max_columns = 50\n",
        "warnings.filterwarnings(\"ignore\")"
      ],
      "metadata": {
        "id": "nNAYNGZqK94K"
      },
      "execution_count": 2,
      "outputs": []
    },
    {
      "cell_type": "markdown",
      "source": [
        "# Github connection\n",
        "\n",
        "[See here for instructions](https://towardsdatascience.com/using-git-with-colab-via-ssh-175e8f3751ec)\n",
        "\n",
        "Thinking of using for version control and final project submission"
      ],
      "metadata": {
        "id": "SRgdefJEf-wg"
      }
    },
    {
      "cell_type": "markdown",
      "source": [
        "# Functions"
      ],
      "metadata": {
        "id": "y5USqlR3pJ7B"
      }
    },
    {
      "cell_type": "code",
      "source": [
        "# pickle object for later\n",
        "import pickle\n",
        "\n",
        "def pickler(ob, pklFileName):\n",
        "  \"\"\" \n",
        "    Create pickle object to load later or in different environments for use later\n",
        "\n",
        "    ob: object, python object intended to pickle\n",
        "    pklFileName: string, name of the pickle file e.g. \"User/content/drive/209/ThisDataFrame.pkl\"\n",
        "  \"\"\"\n",
        "  \n",
        "  with open(pklFileName, \"wb+\") as f:\n",
        "    pickle.dump(ob, f)\n",
        "\n",
        "def load_pickles(pklFilePath):\n",
        "  \"\"\"\n",
        "    path: string, path to object\n",
        "    pklFileName: string, pickle file name with extension .pkl\n",
        "  \"\"\"\n",
        "\n",
        "  return pd.read_pickle(pklFilePath)"
      ],
      "metadata": {
        "id": "UBGwk61tpMo2"
      },
      "execution_count": 3,
      "outputs": []
    },
    {
      "cell_type": "markdown",
      "source": [
        "# File Paths"
      ],
      "metadata": {
        "id": "WhkTwaKefVQc"
      }
    },
    {
      "cell_type": "code",
      "source": [
        "# Mount google drive\n",
        "drive.mount('/content/drive')"
      ],
      "metadata": {
        "colab": {
          "base_uri": "https://localhost:8080/"
        },
        "id": "GISHBRt_wK-5",
        "outputId": "a795d578-91c3-48fd-c573-cd6147a7a570"
      },
      "execution_count": 4,
      "outputs": [
        {
          "output_type": "stream",
          "name": "stdout",
          "text": [
            "Drive already mounted at /content/drive; to attempt to forcibly remount, call drive.mount(\"/content/drive\", force_remount=True).\n"
          ]
        }
      ]
    },
    {
      "cell_type": "code",
      "source": [
        "# Paths\n",
        "main_path = \"/content/drive/MyDrive/\"\n",
        "\n",
        "project_path = \"w281_final_project/\"\n",
        "project_path = \"\".join([main_path, project_path])\n",
        "\n",
        "save_path = \"\".join([date.today().strftime('%Y%m%d'), \"_baseline_models/\"])\n",
        "save_path = \"\".join([project_path, save_path])\n",
        "\n",
        "# Sanity Check\n",
        "print(\"project path: \", project_path)\n",
        "print(\"save path: \", save_path)"
      ],
      "metadata": {
        "colab": {
          "base_uri": "https://localhost:8080/"
        },
        "id": "bTDCHjVedqA5",
        "outputId": "8dd6232c-190f-44fa-f2e2-bed96ce7bceb"
      },
      "execution_count": 5,
      "outputs": [
        {
          "output_type": "stream",
          "name": "stdout",
          "text": [
            "project path:  /content/drive/MyDrive/w281_final_project/\n",
            "save path:  /content/drive/MyDrive/w281_final_project/20230407_baseline_models/\n"
          ]
        }
      ]
    },
    {
      "cell_type": "markdown",
      "source": [
        "# Load tensorflow dataset to use in models"
      ],
      "metadata": {
        "id": "wAYI83E4xno8"
      }
    },
    {
      "cell_type": "code",
      "source": [
        "# Load the saved dataset\n",
        "# dataDir_fullSet = \"/content/drive/MyDrive/w281_final_project/Data/tf_data/full_image_set\"\n",
        "# dataDir_40x = \"/content/drive/MyDrive/w281_final_project/Data/tf_data/images_40X_20230325\"\n",
        "# dataDir_100x = \"\"\n",
        "# dataDir_200x = \"\"\n",
        "# dataDir_400x = \"\"\n",
        "\n",
        "# dataset = tf.data.Dataset.load(dataDir_40x)"
      ],
      "metadata": {
        "id": "3d8cTRR6xmRD"
      },
      "execution_count": 6,
      "outputs": []
    },
    {
      "cell_type": "code",
      "source": [
        "dataDir = \"/content/drive/MyDrive/w281_final_project/Data/BreaKHis_v1/BreaKHis_v1/histology_slides/breast\"\n",
        "\n",
        "df = load_pickles(os.path.join(\"/content/drive/MyDrive/w281_final_project/Data/pickles\", \"metaData.pkl\"))\n",
        "\n",
        "# starting with 40x\n",
        "df.query('MAGNIFICATION == \"40\"').reset_index(inplace=True, drop = True)\n",
        "df.info()\n",
        "df.head()"
      ],
      "metadata": {
        "colab": {
          "base_uri": "https://localhost:8080/",
          "height": 483
        },
        "id": "3UbAM-IMXw6A",
        "outputId": "8739c767-05cd-4e8c-cb31-294bdad15452"
      },
      "execution_count": 7,
      "outputs": [
        {
          "output_type": "stream",
          "name": "stdout",
          "text": [
            "<class 'pandas.core.frame.DataFrame'>\n",
            "RangeIndex: 7909 entries, 0 to 7908\n",
            "Data columns (total 9 columns):\n",
            " #   Column            Non-Null Count  Dtype \n",
            "---  ------            --------------  ----- \n",
            " 0   BIOPSY_PROCEDURE  7909 non-null   object\n",
            " 1   TUMOR_CLASS       7909 non-null   object\n",
            " 2   TUMOR_TYPE        7909 non-null   object\n",
            " 3   YEAR              7909 non-null   object\n",
            " 4   SLIDE_ID          7909 non-null   object\n",
            " 5   MAGNIFICATION     7909 non-null   object\n",
            " 6   SEQ               7909 non-null   object\n",
            " 7   FULL_PATH         7909 non-null   object\n",
            " 8   BASE_NAME         7909 non-null   object\n",
            "dtypes: object(9)\n",
            "memory usage: 556.2+ KB\n"
          ]
        },
        {
          "output_type": "execute_result",
          "data": {
            "text/plain": [
              "  BIOPSY_PROCEDURE TUMOR_CLASS TUMOR_TYPE YEAR SLIDE_ID MAGNIFICATION  SEQ  \\\n",
              "0              SOB           B          A   14  22549AB           100  004   \n",
              "1              SOB           B          A   14  22549AB           100  002   \n",
              "2              SOB           B          A   14  22549AB           100  003   \n",
              "3              SOB           B          A   14  22549AB           100  001   \n",
              "4              SOB           B          A   14  22549AB           100  007   \n",
              "\n",
              "                                           FULL_PATH  \\\n",
              "0  /content/drive/MyDrive/w281_final_project/Data...   \n",
              "1  /content/drive/MyDrive/w281_final_project/Data...   \n",
              "2  /content/drive/MyDrive/w281_final_project/Data...   \n",
              "3  /content/drive/MyDrive/w281_final_project/Data...   \n",
              "4  /content/drive/MyDrive/w281_final_project/Data...   \n",
              "\n",
              "                        BASE_NAME  \n",
              "0  SOB_B_A-14-22549AB-100-004.png  \n",
              "1  SOB_B_A-14-22549AB-100-002.png  \n",
              "2  SOB_B_A-14-22549AB-100-003.png  \n",
              "3  SOB_B_A-14-22549AB-100-001.png  \n",
              "4  SOB_B_A-14-22549AB-100-007.png  "
            ],
            "text/html": [
              "\n",
              "  <div id=\"df-ea090923-4b2a-41d2-8480-3de5c34e5091\">\n",
              "    <div class=\"colab-df-container\">\n",
              "      <div>\n",
              "<style scoped>\n",
              "    .dataframe tbody tr th:only-of-type {\n",
              "        vertical-align: middle;\n",
              "    }\n",
              "\n",
              "    .dataframe tbody tr th {\n",
              "        vertical-align: top;\n",
              "    }\n",
              "\n",
              "    .dataframe thead th {\n",
              "        text-align: right;\n",
              "    }\n",
              "</style>\n",
              "<table border=\"1\" class=\"dataframe\">\n",
              "  <thead>\n",
              "    <tr style=\"text-align: right;\">\n",
              "      <th></th>\n",
              "      <th>BIOPSY_PROCEDURE</th>\n",
              "      <th>TUMOR_CLASS</th>\n",
              "      <th>TUMOR_TYPE</th>\n",
              "      <th>YEAR</th>\n",
              "      <th>SLIDE_ID</th>\n",
              "      <th>MAGNIFICATION</th>\n",
              "      <th>SEQ</th>\n",
              "      <th>FULL_PATH</th>\n",
              "      <th>BASE_NAME</th>\n",
              "    </tr>\n",
              "  </thead>\n",
              "  <tbody>\n",
              "    <tr>\n",
              "      <th>0</th>\n",
              "      <td>SOB</td>\n",
              "      <td>B</td>\n",
              "      <td>A</td>\n",
              "      <td>14</td>\n",
              "      <td>22549AB</td>\n",
              "      <td>100</td>\n",
              "      <td>004</td>\n",
              "      <td>/content/drive/MyDrive/w281_final_project/Data...</td>\n",
              "      <td>SOB_B_A-14-22549AB-100-004.png</td>\n",
              "    </tr>\n",
              "    <tr>\n",
              "      <th>1</th>\n",
              "      <td>SOB</td>\n",
              "      <td>B</td>\n",
              "      <td>A</td>\n",
              "      <td>14</td>\n",
              "      <td>22549AB</td>\n",
              "      <td>100</td>\n",
              "      <td>002</td>\n",
              "      <td>/content/drive/MyDrive/w281_final_project/Data...</td>\n",
              "      <td>SOB_B_A-14-22549AB-100-002.png</td>\n",
              "    </tr>\n",
              "    <tr>\n",
              "      <th>2</th>\n",
              "      <td>SOB</td>\n",
              "      <td>B</td>\n",
              "      <td>A</td>\n",
              "      <td>14</td>\n",
              "      <td>22549AB</td>\n",
              "      <td>100</td>\n",
              "      <td>003</td>\n",
              "      <td>/content/drive/MyDrive/w281_final_project/Data...</td>\n",
              "      <td>SOB_B_A-14-22549AB-100-003.png</td>\n",
              "    </tr>\n",
              "    <tr>\n",
              "      <th>3</th>\n",
              "      <td>SOB</td>\n",
              "      <td>B</td>\n",
              "      <td>A</td>\n",
              "      <td>14</td>\n",
              "      <td>22549AB</td>\n",
              "      <td>100</td>\n",
              "      <td>001</td>\n",
              "      <td>/content/drive/MyDrive/w281_final_project/Data...</td>\n",
              "      <td>SOB_B_A-14-22549AB-100-001.png</td>\n",
              "    </tr>\n",
              "    <tr>\n",
              "      <th>4</th>\n",
              "      <td>SOB</td>\n",
              "      <td>B</td>\n",
              "      <td>A</td>\n",
              "      <td>14</td>\n",
              "      <td>22549AB</td>\n",
              "      <td>100</td>\n",
              "      <td>007</td>\n",
              "      <td>/content/drive/MyDrive/w281_final_project/Data...</td>\n",
              "      <td>SOB_B_A-14-22549AB-100-007.png</td>\n",
              "    </tr>\n",
              "  </tbody>\n",
              "</table>\n",
              "</div>\n",
              "      <button class=\"colab-df-convert\" onclick=\"convertToInteractive('df-ea090923-4b2a-41d2-8480-3de5c34e5091')\"\n",
              "              title=\"Convert this dataframe to an interactive table.\"\n",
              "              style=\"display:none;\">\n",
              "        \n",
              "  <svg xmlns=\"http://www.w3.org/2000/svg\" height=\"24px\"viewBox=\"0 0 24 24\"\n",
              "       width=\"24px\">\n",
              "    <path d=\"M0 0h24v24H0V0z\" fill=\"none\"/>\n",
              "    <path d=\"M18.56 5.44l.94 2.06.94-2.06 2.06-.94-2.06-.94-.94-2.06-.94 2.06-2.06.94zm-11 1L8.5 8.5l.94-2.06 2.06-.94-2.06-.94L8.5 2.5l-.94 2.06-2.06.94zm10 10l.94 2.06.94-2.06 2.06-.94-2.06-.94-.94-2.06-.94 2.06-2.06.94z\"/><path d=\"M17.41 7.96l-1.37-1.37c-.4-.4-.92-.59-1.43-.59-.52 0-1.04.2-1.43.59L10.3 9.45l-7.72 7.72c-.78.78-.78 2.05 0 2.83L4 21.41c.39.39.9.59 1.41.59.51 0 1.02-.2 1.41-.59l7.78-7.78 2.81-2.81c.8-.78.8-2.07 0-2.86zM5.41 20L4 18.59l7.72-7.72 1.47 1.35L5.41 20z\"/>\n",
              "  </svg>\n",
              "      </button>\n",
              "      \n",
              "  <style>\n",
              "    .colab-df-container {\n",
              "      display:flex;\n",
              "      flex-wrap:wrap;\n",
              "      gap: 12px;\n",
              "    }\n",
              "\n",
              "    .colab-df-convert {\n",
              "      background-color: #E8F0FE;\n",
              "      border: none;\n",
              "      border-radius: 50%;\n",
              "      cursor: pointer;\n",
              "      display: none;\n",
              "      fill: #1967D2;\n",
              "      height: 32px;\n",
              "      padding: 0 0 0 0;\n",
              "      width: 32px;\n",
              "    }\n",
              "\n",
              "    .colab-df-convert:hover {\n",
              "      background-color: #E2EBFA;\n",
              "      box-shadow: 0px 1px 2px rgba(60, 64, 67, 0.3), 0px 1px 3px 1px rgba(60, 64, 67, 0.15);\n",
              "      fill: #174EA6;\n",
              "    }\n",
              "\n",
              "    [theme=dark] .colab-df-convert {\n",
              "      background-color: #3B4455;\n",
              "      fill: #D2E3FC;\n",
              "    }\n",
              "\n",
              "    [theme=dark] .colab-df-convert:hover {\n",
              "      background-color: #434B5C;\n",
              "      box-shadow: 0px 1px 3px 1px rgba(0, 0, 0, 0.15);\n",
              "      filter: drop-shadow(0px 1px 2px rgba(0, 0, 0, 0.3));\n",
              "      fill: #FFFFFF;\n",
              "    }\n",
              "  </style>\n",
              "\n",
              "      <script>\n",
              "        const buttonEl =\n",
              "          document.querySelector('#df-ea090923-4b2a-41d2-8480-3de5c34e5091 button.colab-df-convert');\n",
              "        buttonEl.style.display =\n",
              "          google.colab.kernel.accessAllowed ? 'block' : 'none';\n",
              "\n",
              "        async function convertToInteractive(key) {\n",
              "          const element = document.querySelector('#df-ea090923-4b2a-41d2-8480-3de5c34e5091');\n",
              "          const dataTable =\n",
              "            await google.colab.kernel.invokeFunction('convertToInteractive',\n",
              "                                                     [key], {});\n",
              "          if (!dataTable) return;\n",
              "\n",
              "          const docLinkHtml = 'Like what you see? Visit the ' +\n",
              "            '<a target=\"_blank\" href=https://colab.research.google.com/notebooks/data_table.ipynb>data table notebook</a>'\n",
              "            + ' to learn more about interactive tables.';\n",
              "          element.innerHTML = '';\n",
              "          dataTable['output_type'] = 'display_data';\n",
              "          await google.colab.output.renderOutput(dataTable, element);\n",
              "          const docLink = document.createElement('div');\n",
              "          docLink.innerHTML = docLinkHtml;\n",
              "          element.appendChild(docLink);\n",
              "        }\n",
              "      </script>\n",
              "    </div>\n",
              "  </div>\n",
              "  "
            ]
          },
          "metadata": {},
          "execution_count": 7
        }
      ]
    },
    {
      "cell_type": "code",
      "source": [
        "# can tts on pandas dataframe\n",
        "from sklearn.model_selection import train_test_split\n",
        "\n",
        "# Split the dataset into training and testing sets\n",
        "train_ds, test_ds = train_test_split(df[['FULL_PATH', 'TUMOR_TYPE']], test_size=0.3)\n",
        "\n",
        "# Optionally, you can further split the training dataset into a validation set\n",
        "train_ds, val_ds = train_test_split(train_ds, test_size=0.2)"
      ],
      "metadata": {
        "id": "8dKlJVOJYXG7"
      },
      "execution_count": 10,
      "outputs": []
    },
    {
      "cell_type": "code",
      "source": [
        "train_ds"
      ],
      "metadata": {
        "colab": {
          "base_uri": "https://localhost:8080/",
          "height": 423
        },
        "id": "vWyuIxj2Ycwm",
        "outputId": "8fa0b025-44f9-4f18-c215-353f480b0054"
      },
      "execution_count": 11,
      "outputs": [
        {
          "output_type": "execute_result",
          "data": {
            "text/plain": [
              "                                              FULL_PATH TUMOR_TYPE\n",
              "2660  /content/drive/MyDrive/w281_final_project/Data...         DC\n",
              "7449  /content/drive/MyDrive/w281_final_project/Data...         PC\n",
              "3991  /content/drive/MyDrive/w281_final_project/Data...         DC\n",
              "18    /content/drive/MyDrive/w281_final_project/Data...          A\n",
              "5068  /content/drive/MyDrive/w281_final_project/Data...         DC\n",
              "...                                                 ...        ...\n",
              "3658  /content/drive/MyDrive/w281_final_project/Data...         DC\n",
              "6180  /content/drive/MyDrive/w281_final_project/Data...         LC\n",
              "2812  /content/drive/MyDrive/w281_final_project/Data...         DC\n",
              "2077  /content/drive/MyDrive/w281_final_project/Data...         TA\n",
              "2854  /content/drive/MyDrive/w281_final_project/Data...         DC\n",
              "\n",
              "[4428 rows x 2 columns]"
            ],
            "text/html": [
              "\n",
              "  <div id=\"df-c23813b8-15d4-45bb-a390-929cc63443e5\">\n",
              "    <div class=\"colab-df-container\">\n",
              "      <div>\n",
              "<style scoped>\n",
              "    .dataframe tbody tr th:only-of-type {\n",
              "        vertical-align: middle;\n",
              "    }\n",
              "\n",
              "    .dataframe tbody tr th {\n",
              "        vertical-align: top;\n",
              "    }\n",
              "\n",
              "    .dataframe thead th {\n",
              "        text-align: right;\n",
              "    }\n",
              "</style>\n",
              "<table border=\"1\" class=\"dataframe\">\n",
              "  <thead>\n",
              "    <tr style=\"text-align: right;\">\n",
              "      <th></th>\n",
              "      <th>FULL_PATH</th>\n",
              "      <th>TUMOR_TYPE</th>\n",
              "    </tr>\n",
              "  </thead>\n",
              "  <tbody>\n",
              "    <tr>\n",
              "      <th>2660</th>\n",
              "      <td>/content/drive/MyDrive/w281_final_project/Data...</td>\n",
              "      <td>DC</td>\n",
              "    </tr>\n",
              "    <tr>\n",
              "      <th>7449</th>\n",
              "      <td>/content/drive/MyDrive/w281_final_project/Data...</td>\n",
              "      <td>PC</td>\n",
              "    </tr>\n",
              "    <tr>\n",
              "      <th>3991</th>\n",
              "      <td>/content/drive/MyDrive/w281_final_project/Data...</td>\n",
              "      <td>DC</td>\n",
              "    </tr>\n",
              "    <tr>\n",
              "      <th>18</th>\n",
              "      <td>/content/drive/MyDrive/w281_final_project/Data...</td>\n",
              "      <td>A</td>\n",
              "    </tr>\n",
              "    <tr>\n",
              "      <th>5068</th>\n",
              "      <td>/content/drive/MyDrive/w281_final_project/Data...</td>\n",
              "      <td>DC</td>\n",
              "    </tr>\n",
              "    <tr>\n",
              "      <th>...</th>\n",
              "      <td>...</td>\n",
              "      <td>...</td>\n",
              "    </tr>\n",
              "    <tr>\n",
              "      <th>3658</th>\n",
              "      <td>/content/drive/MyDrive/w281_final_project/Data...</td>\n",
              "      <td>DC</td>\n",
              "    </tr>\n",
              "    <tr>\n",
              "      <th>6180</th>\n",
              "      <td>/content/drive/MyDrive/w281_final_project/Data...</td>\n",
              "      <td>LC</td>\n",
              "    </tr>\n",
              "    <tr>\n",
              "      <th>2812</th>\n",
              "      <td>/content/drive/MyDrive/w281_final_project/Data...</td>\n",
              "      <td>DC</td>\n",
              "    </tr>\n",
              "    <tr>\n",
              "      <th>2077</th>\n",
              "      <td>/content/drive/MyDrive/w281_final_project/Data...</td>\n",
              "      <td>TA</td>\n",
              "    </tr>\n",
              "    <tr>\n",
              "      <th>2854</th>\n",
              "      <td>/content/drive/MyDrive/w281_final_project/Data...</td>\n",
              "      <td>DC</td>\n",
              "    </tr>\n",
              "  </tbody>\n",
              "</table>\n",
              "<p>4428 rows × 2 columns</p>\n",
              "</div>\n",
              "      <button class=\"colab-df-convert\" onclick=\"convertToInteractive('df-c23813b8-15d4-45bb-a390-929cc63443e5')\"\n",
              "              title=\"Convert this dataframe to an interactive table.\"\n",
              "              style=\"display:none;\">\n",
              "        \n",
              "  <svg xmlns=\"http://www.w3.org/2000/svg\" height=\"24px\"viewBox=\"0 0 24 24\"\n",
              "       width=\"24px\">\n",
              "    <path d=\"M0 0h24v24H0V0z\" fill=\"none\"/>\n",
              "    <path d=\"M18.56 5.44l.94 2.06.94-2.06 2.06-.94-2.06-.94-.94-2.06-.94 2.06-2.06.94zm-11 1L8.5 8.5l.94-2.06 2.06-.94-2.06-.94L8.5 2.5l-.94 2.06-2.06.94zm10 10l.94 2.06.94-2.06 2.06-.94-2.06-.94-.94-2.06-.94 2.06-2.06.94z\"/><path d=\"M17.41 7.96l-1.37-1.37c-.4-.4-.92-.59-1.43-.59-.52 0-1.04.2-1.43.59L10.3 9.45l-7.72 7.72c-.78.78-.78 2.05 0 2.83L4 21.41c.39.39.9.59 1.41.59.51 0 1.02-.2 1.41-.59l7.78-7.78 2.81-2.81c.8-.78.8-2.07 0-2.86zM5.41 20L4 18.59l7.72-7.72 1.47 1.35L5.41 20z\"/>\n",
              "  </svg>\n",
              "      </button>\n",
              "      \n",
              "  <style>\n",
              "    .colab-df-container {\n",
              "      display:flex;\n",
              "      flex-wrap:wrap;\n",
              "      gap: 12px;\n",
              "    }\n",
              "\n",
              "    .colab-df-convert {\n",
              "      background-color: #E8F0FE;\n",
              "      border: none;\n",
              "      border-radius: 50%;\n",
              "      cursor: pointer;\n",
              "      display: none;\n",
              "      fill: #1967D2;\n",
              "      height: 32px;\n",
              "      padding: 0 0 0 0;\n",
              "      width: 32px;\n",
              "    }\n",
              "\n",
              "    .colab-df-convert:hover {\n",
              "      background-color: #E2EBFA;\n",
              "      box-shadow: 0px 1px 2px rgba(60, 64, 67, 0.3), 0px 1px 3px 1px rgba(60, 64, 67, 0.15);\n",
              "      fill: #174EA6;\n",
              "    }\n",
              "\n",
              "    [theme=dark] .colab-df-convert {\n",
              "      background-color: #3B4455;\n",
              "      fill: #D2E3FC;\n",
              "    }\n",
              "\n",
              "    [theme=dark] .colab-df-convert:hover {\n",
              "      background-color: #434B5C;\n",
              "      box-shadow: 0px 1px 3px 1px rgba(0, 0, 0, 0.15);\n",
              "      filter: drop-shadow(0px 1px 2px rgba(0, 0, 0, 0.3));\n",
              "      fill: #FFFFFF;\n",
              "    }\n",
              "  </style>\n",
              "\n",
              "      <script>\n",
              "        const buttonEl =\n",
              "          document.querySelector('#df-c23813b8-15d4-45bb-a390-929cc63443e5 button.colab-df-convert');\n",
              "        buttonEl.style.display =\n",
              "          google.colab.kernel.accessAllowed ? 'block' : 'none';\n",
              "\n",
              "        async function convertToInteractive(key) {\n",
              "          const element = document.querySelector('#df-c23813b8-15d4-45bb-a390-929cc63443e5');\n",
              "          const dataTable =\n",
              "            await google.colab.kernel.invokeFunction('convertToInteractive',\n",
              "                                                     [key], {});\n",
              "          if (!dataTable) return;\n",
              "\n",
              "          const docLinkHtml = 'Like what you see? Visit the ' +\n",
              "            '<a target=\"_blank\" href=https://colab.research.google.com/notebooks/data_table.ipynb>data table notebook</a>'\n",
              "            + ' to learn more about interactive tables.';\n",
              "          element.innerHTML = '';\n",
              "          dataTable['output_type'] = 'display_data';\n",
              "          await google.colab.output.renderOutput(dataTable, element);\n",
              "          const docLink = document.createElement('div');\n",
              "          docLink.innerHTML = docLinkHtml;\n",
              "          element.appendChild(docLink);\n",
              "        }\n",
              "      </script>\n",
              "    </div>\n",
              "  </div>\n",
              "  "
            ]
          },
          "metadata": {},
          "execution_count": 11
        }
      ]
    },
    {
      "cell_type": "code",
      "source": [
        "file_paths = df['FULL_PATH'].values\n",
        "labels = df['TUMOR_TYPE'].values # using subtype of tumor labels as labels to get 8 different labels. Could use 'TUMOR_CLASS' if you want binary classification problem. \n",
        "labels"
      ],
      "metadata": {
        "id": "QjNoZie-zplt",
        "colab": {
          "base_uri": "https://localhost:8080/"
        },
        "outputId": "ab4f202b-461b-4d74-fcbe-7a2c3adf321b"
      },
      "execution_count": 12,
      "outputs": [
        {
          "output_type": "execute_result",
          "data": {
            "text/plain": [
              "array(['A', 'A', 'A', ..., 'PC', 'PC', 'PC'], dtype=object)"
            ]
          },
          "metadata": {},
          "execution_count": 12
        }
      ]
    },
    {
      "cell_type": "markdown",
      "source": [
        "# Quick EDA"
      ],
      "metadata": {
        "id": "uwvBGTXx8Y8J"
      }
    },
    {
      "cell_type": "code",
      "source": [
        "#@title\n",
        "# check distribution of labels\n",
        "sns.countplot(x = labels)"
      ],
      "metadata": {
        "colab": {
          "base_uri": "https://localhost:8080/",
          "height": 447
        },
        "cellView": "form",
        "id": "1pxwUCSH72Cz",
        "outputId": "e0b60014-fc6c-4291-b088-498ebdc5bdf1"
      },
      "execution_count": 80,
      "outputs": [
        {
          "output_type": "execute_result",
          "data": {
            "text/plain": [
              "<Axes: ylabel='count'>"
            ]
          },
          "metadata": {},
          "execution_count": 80
        },
        {
          "output_type": "display_data",
          "data": {
            "text/plain": [
              "<Figure size 640x480 with 1 Axes>"
            ],
            "image/png": "[encoded data removed]"
          },
          "metadata": {}
        }
      ]
    },
    {
      "cell_type": "code",
      "source": [
        "#@title\n",
        "sns.histplot(data= df, x = \"TUMOR_TYPE\", kde = True, hue = \"TUMOR_TYPE\", stat = \"density\")"
      ],
      "metadata": {
        "colab": {
          "base_uri": "https://localhost:8080/",
          "height": 466
        },
        "cellView": "form",
        "id": "DGWhfdBe8qA8",
        "outputId": "2487567a-7fa9-4390-f751-2dce07a599de"
      },
      "execution_count": 81,
      "outputs": [
        {
          "output_type": "execute_result",
          "data": {
            "text/plain": [
              "<Axes: xlabel='TUMOR_TYPE', ylabel='Density'>"
            ]
          },
          "metadata": {},
          "execution_count": 81
        },
        {
          "output_type": "display_data",
          "data": {
            "text/plain": [
              "<Figure size 640x480 with 1 Axes>"
            ],
            "image/png": "[encoded data removed]"
          },
          "metadata": {}
        }
      ]
    },
    {
      "cell_type": "code",
      "source": [
        "#@title\n",
        "# Examples of images\n",
        "df_temp = df.sample(10).reset_index(drop=True)"
      ],
      "metadata": {
        "cellView": "form",
        "id": "c5NV5WBR9Ay4"
      },
      "execution_count": 82,
      "outputs": []
    },
    {
      "cell_type": "markdown",
      "source": [
        "DC is by far the most prevelant in the dataset"
      ],
      "metadata": {
        "id": "ekkuc-7y8dSb"
      }
    },
    {
      "cell_type": "markdown",
      "source": [
        "#### Examples of images"
      ],
      "metadata": {
        "id": "YfbIMcDl8ac0"
      }
    },
    {
      "cell_type": "code",
      "source": [
        "#@title\n",
        "nrows = 2\n",
        "ncols = 5\n",
        "\n",
        "fig, axs = plt.subplots(nrows, ncols, figsize = (6,6))\n",
        "\n",
        "# Flatten axes to make it easier to access\n",
        "axs = axs.flatten()\n",
        "\n",
        "for i, file in enumerate(df_temp['FULL_PATH']): \n",
        "  #read in file\n",
        "  pic = plt.imread(file)\n",
        "\n",
        "  # add image to axes\n",
        "  axs[i].imshow(pic)\n",
        "\n",
        "  # drop axis labels\n",
        "  axs[i].axis('off')\n",
        "  # add axes title\n",
        "  axs[i].set(title=df_temp.loc[i, 'TUMOR_TYPE'])\n",
        "\n",
        "fig.suptitle(\"Sample of images in dataset\", fontsize = 16)"
      ],
      "metadata": {
        "colab": {
          "base_uri": "https://localhost:8080/",
          "height": 497
        },
        "id": "0unGFbv59I2E",
        "outputId": "edb47413-d9cc-4fc4-890f-3de63a8cc29a"
      },
      "execution_count": 83,
      "outputs": [
        {
          "output_type": "execute_result",
          "data": {
            "text/plain": [
              "Text(0.5, 0.98, 'Sample of images in dataset')"
            ]
          },
          "metadata": {},
          "execution_count": 83
        },
        {
          "output_type": "display_data",
          "data": {
            "text/plain": [
              "<Figure size 600x600 with 10 Axes>"
            ],
            "image/png": "[encoded data removed]"
          },
          "metadata": {}
        }
      ]
    },
    {
      "cell_type": "markdown",
      "source": [
        "Typically a trained histologist would evalulate the staining of each slide and rank them from 1-5 based on their own criteria. This provides issues when compariing tissues sections from different patients and labs. Processing the tissues and staining with hematoxylin and eosin can cause different artifcats to be present in the slides. Additional variations can come from image capture procedures. Luckily in this dataset the data curators used the same equipment and settings (*fact check please*). Regardless, it may be beneficial to normalize for brightness or intensity of colors. Initially our approach will be to use only grey scale images. "
      ],
      "metadata": {
        "id": "xQAtjHsFAUvP"
      }
    },
    {
      "cell_type": "markdown",
      "source": [
        "There are also gaps in some of the tissue that cause the area size to vary between slides. \n",
        "Orientation could also be a challenge. The tissue is not always oriented the same way to the view of the tissue can change depending on how the parafin was sectioned and laid on a slide. "
      ],
      "metadata": {
        "id": "ajNZBqPXBGXf"
      }
    },
    {
      "cell_type": "markdown",
      "source": [
        "There are substructures within the images that histologist normally use to annotate these images. These features are important because the types of tissues that the cancer is affecting will change the appearance of the slide and staining profile. Understanding the effected cellular structures also helps to lead to diagnosises in the clinic. It would be interesting in future work to use this set to see what structures are effected by different types of cancer. "
      ],
      "metadata": {
        "id": "PpFLiFJ6BXvb"
      }
    },
    {
      "cell_type": "markdown",
      "source": [
        "# Creating dataset"
      ],
      "metadata": {
        "id": "bD8B1SWODbTU"
      }
    },
    {
      "cell_type": "code",
      "source": [
        "# convert labels to numeric representation\n",
        "from sklearn.preprocessing import LabelEncoder\n",
        "\n",
        "def encode_labels(labels): \n",
        "  \"\"\" take list of labels and turn into one hot encodings\"\"\"\n",
        "\n",
        "  # number of categories\n",
        "  depth = len(set(labels))\n",
        "\n",
        "  # create encoder\n",
        "  labelencoder = LabelEncoder()\n",
        "\n",
        "  # apply encoder to change string labels to integer\n",
        "  labels = labelencoder.fit_transform(labels)\n",
        "\n",
        "  # One-hot encodning to feed into model(s)\n",
        "  labels = tf.one_hot(labels, depth = depth)\n",
        "\n",
        "  return labels\n"
      ],
      "metadata": {
        "id": "DCrr0QF84zNG"
      },
      "execution_count": 14,
      "outputs": []
    },
    {
      "cell_type": "markdown",
      "source": [
        "More about [batched datasets](https://www.tensorflow.org/guide/data#batching_dataset_elements) can be found there."
      ],
      "metadata": {
        "id": "dorh6HLy7MhQ"
      }
    },
    {
      "cell_type": "code",
      "source": [
        "def create_tf_ds(file_paths, labels): \n",
        "  \"\"\" Create tensorflow dataset from file paths and labels \"\"\"\n",
        "  # create dataset\n",
        "  ds = tf.data.Dataset.from_tensor_slices((file_paths, labels)) # mapping like a zip in python\n",
        "  \n",
        "  return ds\n",
        "\n",
        "def read_image(image_file_path, label): \n",
        "  \"\"\"Function to read in images to create tf dataset\"\"\"\n",
        "  image = tf.io.read_file(image_file_path) # read in image\n",
        "  image = tf.image.decode_image(image, channels = 3, dtype = tf.float32) # preserving RGB colors with channels = 3. Reads array \n",
        "\n",
        "  return image, label"
      ],
      "metadata": {
        "id": "eiavEC-mzq2H"
      },
      "execution_count": 15,
      "outputs": []
    },
    {
      "cell_type": "markdown",
      "source": [
        "## Image Augmentation"
      ],
      "metadata": {
        "id": "rG3KoWzgDMWq"
      }
    },
    {
      "cell_type": "code",
      "source": [
        "def augment(image, label): \n",
        "  # data augmentation here\n",
        "  # is done while the model is training\n",
        "  \n",
        "  new_height = new_width = 32\n",
        "  image = tf.image.resize(image, (new_height, new_width))\n",
        "\n",
        "  # turning some to gray scale\n",
        "  if tf.random.uniform((), minval=0, maxval=1) < 0.1: \n",
        "    image = tf.tile(tf.image(tf.image.rgb_to_grayscale(image), [1,1,3]))\n",
        "\n",
        "  image = tf.image.random_brightness(image, max_delta = 0.1)\n",
        "  image = tf.image.random_contrast(image, lower=0.1, upper = 0.2)\n",
        "\n",
        "  # flip images\n",
        "  image = tf.image.random_flip_left_right(image) # 50%\n",
        "  image = tf.image.random_flip_up_down(image)\n",
        "\n",
        "  return image, label"
      ],
      "metadata": {
        "id": "mGb8iGhpDLU6"
      },
      "execution_count": 86,
      "outputs": []
    },
    {
      "cell_type": "code",
      "source": [
        "labels = encode_labels(labels)"
      ],
      "metadata": {
        "id": "hgtN5F4CaC_Q"
      },
      "execution_count": 16,
      "outputs": []
    },
    {
      "cell_type": "code",
      "source": [
        "ds = create_tf_ds(df).map(read_image)"
      ],
      "metadata": {
        "id": "1Is1_LFJ0pWi",
        "colab": {
          "base_uri": "https://localhost:8080/",
          "height": 166
        },
        "outputId": "e95ccafb-884b-413b-8160-df5cbe168e34"
      },
      "execution_count": 13,
      "outputs": [
        {
          "output_type": "error",
          "ename": "NameError",
          "evalue": "ignored",
          "traceback": [
            "\u001b[0;31m---------------------------------------------------------------------------\u001b[0m",
            "\u001b[0;31mNameError\u001b[0m                                 Traceback (most recent call last)",
            "\u001b[0;32m<ipython-input-13-6f97b4bb59dd>\u001b[0m in \u001b[0;36m<cell line: 1>\u001b[0;34m()\u001b[0m\n\u001b[0;32m----> 1\u001b[0;31m \u001b[0mds\u001b[0m \u001b[0;34m=\u001b[0m \u001b[0mcreate_tf_ds\u001b[0m\u001b[0;34m(\u001b[0m\u001b[0mdf\u001b[0m\u001b[0;34m)\u001b[0m\u001b[0;34m.\u001b[0m\u001b[0mmap\u001b[0m\u001b[0;34m(\u001b[0m\u001b[0mread_image\u001b[0m\u001b[0;34m)\u001b[0m\u001b[0;34m\u001b[0m\u001b[0;34m\u001b[0m\u001b[0m\n\u001b[0m",
            "\u001b[0;31mNameError\u001b[0m: name 'create_tf_ds' is not defined"
          ]
        }
      ]
    },
    {
      "cell_type": "code",
      "source": [
        "import time\n",
        "def timeis(func):\n",
        "    \"\"\"Decorator that reports the execution time.\"\"\"\n",
        "  \n",
        "    def wrap(*args, **kwargs):\n",
        "        start = time.time()\n",
        "        result = func(*args, **kwargs)\n",
        "        end = time.time()\n",
        "          \n",
        "        print(func.__name__, end-start)\n",
        "        return result\n",
        "    return wrap"
      ],
      "metadata": {
        "id": "ViTGH1HLXGYh"
      },
      "execution_count": null,
      "outputs": []
    },
    {
      "cell_type": "markdown",
      "source": [
        "More info on splitting data in [tensorflow](https://www.tensorflow.org/datasets/splits)"
      ],
      "metadata": {
        "id": "oNEj6yuTXms8"
      }
    },
    {
      "cell_type": "code",
      "source": [
        "# train test split the data\n",
        "%%timeit -n 1\n",
        "train_size = 0.7\n",
        "train, test = tf.keras.utils.split_dataset(dataset = ds, left_size= train_size, shuffle = True, seed = 26)"
      ],
      "metadata": {
        "id": "yMgznqcrWDoC"
      },
      "execution_count": null,
      "outputs": []
    },
    {
      "cell_type": "markdown",
      "source": [
        "Another way to set up the training set"
      ],
      "metadata": {
        "id": "mOrsJYXMSdNz"
      }
    },
    {
      "cell_type": "code",
      "source": [
        "def normalize_img(image, label): \n",
        "  \"\"\" Normalize images \"\"\"\n",
        "  return tf.cast(image, tf.float32) / 255.0 / label"
      ],
      "metadata": {
        "id": "WCI0EpawURhh"
      },
      "execution_count": 53,
      "outputs": []
    },
    {
      "cell_type": "code",
      "source": [
        "AUTOTUNE = tf.data.experimental.AUTOTUNE\n",
        "BATCH_SIZE = 32"
      ],
      "metadata": {
        "id": "6HczZySiVPR5"
      },
      "execution_count": null,
      "outputs": []
    },
    {
      "cell_type": "code",
      "source": [
        "# setup for train dataset\n",
        "ds_train = ds_train.map(normalize_img, num_parallel_calls = AUTOTUNE)\n",
        "ds_train = ds_train.cache()\n",
        "ds_train = ds_train.shuffle(ds_info.splits['train'].num_examples)\n",
        "ds_train = ds_train.map(augment, num_parallel_calls = AUTOTUNE)\n",
        "ds_train = ds_train.batch(BATCH_SIZE)\n",
        "ds_train = ds_train.PREFETCH(AUTOTUNE)"
      ],
      "metadata": {
        "id": "-1fctW1hSgnZ"
      },
      "execution_count": null,
      "outputs": []
    },
    {
      "cell_type": "markdown",
      "source": [
        "Another way"
      ],
      "metadata": {
        "id": "YeRuezd3TTRB"
      }
    },
    {
      "cell_type": "code",
      "source": [
        "data_augmentation = keras.Sequential(\n",
        "    [\n",
        "        layers.experimental.preprocessing.Resizing(height = new_height, width = new_width)\n",
        "        layers.experimental.preprocessing.RandomFlip(mode='horizontal')\n",
        "        layers.experimental.preprocessing.RandomContrast(factor=0.1)\n",
        "    ]\n",
        ")"
      ],
      "metadata": {
        "id": "kyMhr-d2TUi5"
      },
      "execution_count": null,
      "outputs": []
    },
    {
      "cell_type": "code",
      "source": [
        "# def plot_batch_sizes(ds):\n",
        "#   batch_sizes = [batch.shape[0] for batch in ds]\n",
        "#   plt.bar(range(len(batch_sizes)), batch_sizes)\n",
        "#   plt.xlabel('Batch number')\n",
        "#   plt.ylabel('Batch size')"
      ],
      "metadata": {
        "id": "HpbJI927CIGp"
      },
      "execution_count": 41,
      "outputs": []
    },
    {
      "cell_type": "markdown",
      "source": [],
      "metadata": {
        "id": "U67Jh9HGDgD2"
      }
    },
    {
      "cell_type": "markdown",
      "source": [
        "Train validation test split (60/10/30)\n",
        "shuffle data"
      ],
      "metadata": {
        "id": "mvy3ATagCiT7"
      }
    },
    {
      "cell_type": "code",
      "source": [],
      "metadata": {
        "id": "JiuF8AdZ6KvH"
      },
      "execution_count": null,
      "outputs": []
    },
    {
      "cell_type": "code",
      "source": [
        "for epoch in range(10): \n",
        "  for x, y in ds_train: \n",
        "    # train here\n",
        "    pass"
      ],
      "metadata": {
        "colab": {
          "base_uri": "https://localhost:8080/",
          "height": 363
        },
        "id": "glQAhBPv2MJf",
        "outputId": "22bf33db-dec3-428c-d4b5-c7499c9c8735"
      },
      "execution_count": null,
      "outputs": [
        {
          "output_type": "error",
          "ename": "KeyboardInterrupt",
          "evalue": "ignored",
          "traceback": [
            "\u001b[0;31m---------------------------------------------------------------------------\u001b[0m",
            "\u001b[0;31mKeyboardInterrupt\u001b[0m                         Traceback (most recent call last)",
            "\u001b[0;32m<ipython-input-76-5d8891d3a740>\u001b[0m in \u001b[0;36m<cell line: 1>\u001b[0;34m()\u001b[0m\n\u001b[1;32m      1\u001b[0m \u001b[0;32mfor\u001b[0m \u001b[0mepoch\u001b[0m \u001b[0;32min\u001b[0m \u001b[0mrange\u001b[0m\u001b[0;34m(\u001b[0m\u001b[0;36m10\u001b[0m\u001b[0;34m)\u001b[0m\u001b[0;34m:\u001b[0m\u001b[0;34m\u001b[0m\u001b[0;34m\u001b[0m\u001b[0m\n\u001b[0;32m----> 2\u001b[0;31m   \u001b[0;32mfor\u001b[0m \u001b[0mx\u001b[0m\u001b[0;34m,\u001b[0m \u001b[0my\u001b[0m \u001b[0;32min\u001b[0m \u001b[0mds_train\u001b[0m\u001b[0;34m:\u001b[0m\u001b[0;34m\u001b[0m\u001b[0;34m\u001b[0m\u001b[0m\n\u001b[0m\u001b[1;32m      3\u001b[0m     \u001b[0;31m# train here\u001b[0m\u001b[0;34m\u001b[0m\u001b[0;34m\u001b[0m\u001b[0m\n\u001b[1;32m      4\u001b[0m     \u001b[0;32mpass\u001b[0m\u001b[0;34m\u001b[0m\u001b[0;34m\u001b[0m\u001b[0m\n",
            "\u001b[0;32m/usr/local/lib/python3.9/dist-packages/tensorflow/python/data/ops/iterator_ops.py\u001b[0m in \u001b[0;36m__next__\u001b[0;34m(self)\u001b[0m\n\u001b[1;32m    795\u001b[0m   \u001b[0;32mdef\u001b[0m \u001b[0m__next__\u001b[0m\u001b[0;34m(\u001b[0m\u001b[0mself\u001b[0m\u001b[0;34m)\u001b[0m\u001b[0;34m:\u001b[0m\u001b[0;34m\u001b[0m\u001b[0;34m\u001b[0m\u001b[0m\n\u001b[1;32m    796\u001b[0m     \u001b[0;32mtry\u001b[0m\u001b[0;34m:\u001b[0m\u001b[0;34m\u001b[0m\u001b[0;34m\u001b[0m\u001b[0m\n\u001b[0;32m--> 797\u001b[0;31m       \u001b[0;32mreturn\u001b[0m \u001b[0mself\u001b[0m\u001b[0;34m.\u001b[0m\u001b[0m_next_internal\u001b[0m\u001b[0;34m(\u001b[0m\u001b[0;34m)\u001b[0m\u001b[0;34m\u001b[0m\u001b[0;34m\u001b[0m\u001b[0m\n\u001b[0m\u001b[1;32m    798\u001b[0m     \u001b[0;32mexcept\u001b[0m \u001b[0merrors\u001b[0m\u001b[0;34m.\u001b[0m\u001b[0mOutOfRangeError\u001b[0m\u001b[0;34m:\u001b[0m\u001b[0;34m\u001b[0m\u001b[0;34m\u001b[0m\u001b[0m\n\u001b[1;32m    799\u001b[0m       \u001b[0;32mraise\u001b[0m \u001b[0mStopIteration\u001b[0m\u001b[0;34m\u001b[0m\u001b[0;34m\u001b[0m\u001b[0m\n",
            "\u001b[0;32m/usr/local/lib/python3.9/dist-packages/tensorflow/python/data/ops/iterator_ops.py\u001b[0m in \u001b[0;36m_next_internal\u001b[0;34m(self)\u001b[0m\n\u001b[1;32m    778\u001b[0m     \u001b[0;31m# to communicate that there is no more data to iterate over.\u001b[0m\u001b[0;34m\u001b[0m\u001b[0;34m\u001b[0m\u001b[0m\n\u001b[1;32m    779\u001b[0m     \u001b[0;32mwith\u001b[0m \u001b[0mcontext\u001b[0m\u001b[0;34m.\u001b[0m\u001b[0mexecution_mode\u001b[0m\u001b[0;34m(\u001b[0m\u001b[0mcontext\u001b[0m\u001b[0;34m.\u001b[0m\u001b[0mSYNC\u001b[0m\u001b[0;34m)\u001b[0m\u001b[0;34m:\u001b[0m\u001b[0;34m\u001b[0m\u001b[0;34m\u001b[0m\u001b[0m\n\u001b[0;32m--> 780\u001b[0;31m       ret = gen_dataset_ops.iterator_get_next(\n\u001b[0m\u001b[1;32m    781\u001b[0m           \u001b[0mself\u001b[0m\u001b[0;34m.\u001b[0m\u001b[0m_iterator_resource\u001b[0m\u001b[0;34m,\u001b[0m\u001b[0;34m\u001b[0m\u001b[0;34m\u001b[0m\u001b[0m\n\u001b[1;32m    782\u001b[0m           \u001b[0moutput_types\u001b[0m\u001b[0;34m=\u001b[0m\u001b[0mself\u001b[0m\u001b[0;34m.\u001b[0m\u001b[0m_flat_output_types\u001b[0m\u001b[0;34m,\u001b[0m\u001b[0;34m\u001b[0m\u001b[0;34m\u001b[0m\u001b[0m\n",
            "\u001b[0;32m/usr/local/lib/python3.9/dist-packages/tensorflow/python/ops/gen_dataset_ops.py\u001b[0m in \u001b[0;36miterator_get_next\u001b[0;34m(iterator, output_types, output_shapes, name)\u001b[0m\n\u001b[1;32m   3009\u001b[0m   \u001b[0;32mif\u001b[0m \u001b[0mtld\u001b[0m\u001b[0;34m.\u001b[0m\u001b[0mis_eager\u001b[0m\u001b[0;34m:\u001b[0m\u001b[0;34m\u001b[0m\u001b[0;34m\u001b[0m\u001b[0m\n\u001b[1;32m   3010\u001b[0m     \u001b[0;32mtry\u001b[0m\u001b[0;34m:\u001b[0m\u001b[0;34m\u001b[0m\u001b[0;34m\u001b[0m\u001b[0m\n\u001b[0;32m-> 3011\u001b[0;31m       _result = pywrap_tfe.TFE_Py_FastPathExecute(\n\u001b[0m\u001b[1;32m   3012\u001b[0m         \u001b[0m_ctx\u001b[0m\u001b[0;34m,\u001b[0m \u001b[0;34m\"IteratorGetNext\"\u001b[0m\u001b[0;34m,\u001b[0m \u001b[0mname\u001b[0m\u001b[0;34m,\u001b[0m \u001b[0miterator\u001b[0m\u001b[0;34m,\u001b[0m \u001b[0;34m\"output_types\"\u001b[0m\u001b[0;34m,\u001b[0m \u001b[0moutput_types\u001b[0m\u001b[0;34m,\u001b[0m\u001b[0;34m\u001b[0m\u001b[0;34m\u001b[0m\u001b[0m\n\u001b[1;32m   3013\u001b[0m         \"output_shapes\", output_shapes)\n",
            "\u001b[0;31mKeyboardInterrupt\u001b[0m: "
          ]
        }
      ]
    },
    {
      "cell_type": "code",
      "source": [
        "from tensorflow import keras\n",
        "from tensorflow.keras import layers"
      ],
      "metadata": {
        "id": "veDGzvEU2tif"
      },
      "execution_count": null,
      "outputs": []
    },
    {
      "cell_type": "code",
      "source": [
        "model = keras.Sequential([\n",
        "    layers.Input((28,28,1)),\n",
        "    layers.Conv2D(16,3, padding = 'same'),\n",
        "    layers.Conv2D(32,3,padding = 'same'),\n",
        "    layers.MaxPooling2D(),\n",
        "    layers.Flatten(),\n",
        "    layers.Dense(8)\n",
        "])"
      ],
      "metadata": {
        "id": "tjg9ftFq2Vvk"
      },
      "execution_count": null,
      "outputs": []
    },
    {
      "cell_type": "code",
      "source": [
        "model.compile(\n",
        "    optimizer=keras.optimizers.Adam(),\n",
        "    loss = [\n",
        "        keras.losses.CategoricalCrossentropy(from_logits = True),\n",
        "    ],\n",
        "    metrics=['accuracy'],\n",
        ")"
      ],
      "metadata": {
        "id": "L_ya7L9H2ldU"
      },
      "execution_count": null,
      "outputs": []
    },
    {
      "cell_type": "code",
      "source": [
        "model.fit(ds_train,\n",
        "          epochs=10,\n",
        "          verbose=2)"
      ],
      "metadata": {
        "colab": {
          "base_uri": "https://localhost:8080/",
          "height": 1000
        },
        "id": "I8SpHxZd3N52",
        "outputId": "297cf9e8-2b55-4ccf-b6eb-ae4460dfdfba"
      },
      "execution_count": null,
      "outputs": [
        {
          "output_type": "stream",
          "name": "stdout",
          "text": [
            "Epoch 1/10\n"
          ]
        },
        {
          "output_type": "error",
          "ename": "UnimplementedError",
          "evalue": "ignored",
          "traceback": [
            "\u001b[0;31m---------------------------------------------------------------------------\u001b[0m",
            "\u001b[0;31mUnimplementedError\u001b[0m                        Traceback (most recent call last)",
            "\u001b[0;32m<ipython-input-80-85accc4936ed>\u001b[0m in \u001b[0;36m<cell line: 1>\u001b[0;34m()\u001b[0m\n\u001b[0;32m----> 1\u001b[0;31m model.fit(ds_train,\n\u001b[0m\u001b[1;32m      2\u001b[0m           \u001b[0mepochs\u001b[0m\u001b[0;34m=\u001b[0m\u001b[0;36m10\u001b[0m\u001b[0;34m,\u001b[0m\u001b[0;34m\u001b[0m\u001b[0;34m\u001b[0m\u001b[0m\n\u001b[1;32m      3\u001b[0m           verbose=2)\n",
            "\u001b[0;32m/usr/local/lib/python3.9/dist-packages/keras/utils/traceback_utils.py\u001b[0m in \u001b[0;36merror_handler\u001b[0;34m(*args, **kwargs)\u001b[0m\n\u001b[1;32m     68\u001b[0m             \u001b[0;31m# To get the full stack trace, call:\u001b[0m\u001b[0;34m\u001b[0m\u001b[0;34m\u001b[0m\u001b[0m\n\u001b[1;32m     69\u001b[0m             \u001b[0;31m# `tf.debugging.disable_traceback_filtering()`\u001b[0m\u001b[0;34m\u001b[0m\u001b[0;34m\u001b[0m\u001b[0m\n\u001b[0;32m---> 70\u001b[0;31m             \u001b[0;32mraise\u001b[0m \u001b[0me\u001b[0m\u001b[0;34m.\u001b[0m\u001b[0mwith_traceback\u001b[0m\u001b[0;34m(\u001b[0m\u001b[0mfiltered_tb\u001b[0m\u001b[0;34m)\u001b[0m \u001b[0;32mfrom\u001b[0m \u001b[0;32mNone\u001b[0m\u001b[0;34m\u001b[0m\u001b[0;34m\u001b[0m\u001b[0m\n\u001b[0m\u001b[1;32m     71\u001b[0m         \u001b[0;32mfinally\u001b[0m\u001b[0;34m:\u001b[0m\u001b[0;34m\u001b[0m\u001b[0;34m\u001b[0m\u001b[0m\n\u001b[1;32m     72\u001b[0m             \u001b[0;32mdel\u001b[0m \u001b[0mfiltered_tb\u001b[0m\u001b[0;34m\u001b[0m\u001b[0;34m\u001b[0m\u001b[0m\n",
            "\u001b[0;32m/usr/local/lib/python3.9/dist-packages/tensorflow/python/eager/execute.py\u001b[0m in \u001b[0;36mquick_execute\u001b[0;34m(op_name, num_outputs, inputs, attrs, ctx, name)\u001b[0m\n\u001b[1;32m     50\u001b[0m   \u001b[0;32mtry\u001b[0m\u001b[0;34m:\u001b[0m\u001b[0;34m\u001b[0m\u001b[0;34m\u001b[0m\u001b[0m\n\u001b[1;32m     51\u001b[0m     \u001b[0mctx\u001b[0m\u001b[0;34m.\u001b[0m\u001b[0mensure_initialized\u001b[0m\u001b[0;34m(\u001b[0m\u001b[0;34m)\u001b[0m\u001b[0;34m\u001b[0m\u001b[0;34m\u001b[0m\u001b[0m\n\u001b[0;32m---> 52\u001b[0;31m     tensors = pywrap_tfe.TFE_Py_Execute(ctx._handle, device_name, op_name,\n\u001b[0m\u001b[1;32m     53\u001b[0m                                         inputs, attrs, num_outputs)\n\u001b[1;32m     54\u001b[0m   \u001b[0;32mexcept\u001b[0m \u001b[0mcore\u001b[0m\u001b[0;34m.\u001b[0m\u001b[0m_NotOkStatusException\u001b[0m \u001b[0;32mas\u001b[0m \u001b[0me\u001b[0m\u001b[0;34m:\u001b[0m\u001b[0;34m\u001b[0m\u001b[0;34m\u001b[0m\u001b[0m\n",
            "\u001b[0;31mUnimplementedError\u001b[0m: Graph execution error:\n\nDetected at node 'sequential_1/conv2d_2/BiasAdd' defined at (most recent call last):\n    File \"/usr/lib/python3.9/runpy.py\", line 197, in _run_module_as_main\n      return _run_code(code, main_globals, None,\n    File \"/usr/lib/python3.9/runpy.py\", line 87, in _run_code\n      exec(code, run_globals)\n    File \"/usr/local/lib/python3.9/dist-packages/ipykernel_launcher.py\", line 16, in <module>\n      app.launch_new_instance()\n    File \"/usr/local/lib/python3.9/dist-packages/traitlets/config/application.py\", line 992, in launch_instance\n      app.start()\n    File \"/usr/local/lib/python3.9/dist-packages/ipykernel/kernelapp.py\", line 619, in start\n      self.io_loop.start()\n    File \"/usr/local/lib/python3.9/dist-packages/tornado/platform/asyncio.py\", line 215, in start\n      self.asyncio_loop.run_forever()\n    File \"/usr/lib/python3.9/asyncio/base_events.py\", line 601, in run_forever\n      self._run_once()\n    File \"/usr/lib/python3.9/asyncio/base_events.py\", line 1905, in _run_once\n      handle._run()\n    File \"/usr/lib/python3.9/asyncio/events.py\", line 80, in _run\n      self._context.run(self._callback, *self._args)\n    File \"/usr/local/lib/python3.9/dist-packages/tornado/ioloop.py\", line 687, in <lambda>\n      lambda f: self._run_callback(functools.partial(callback, future))\n    File \"/usr/local/lib/python3.9/dist-packages/tornado/ioloop.py\", line 740, in _run_callback\n      ret = callback()\n    File \"/usr/local/lib/python3.9/dist-packages/tornado/gen.py\", line 821, in inner\n      self.ctx_run(self.run)\n    File \"/usr/local/lib/python3.9/dist-packages/tornado/gen.py\", line 782, in run\n      yielded = self.gen.send(value)\n    File \"/usr/local/lib/python3.9/dist-packages/ipykernel/kernelbase.py\", line 361, in process_one\n      yield gen.maybe_future(dispatch(*args))\n    File \"/usr/local/lib/python3.9/dist-packages/tornado/gen.py\", line 234, in wrapper\n      yielded = ctx_run(next, result)\n    File \"/usr/local/lib/python3.9/dist-packages/ipykernel/kernelbase.py\", line 261, in dispatch_shell\n      yield gen.maybe_future(handler(stream, idents, msg))\n    File \"/usr/local/lib/python3.9/dist-packages/tornado/gen.py\", line 234, in wrapper\n      yielded = ctx_run(next, result)\n    File \"/usr/local/lib/python3.9/dist-packages/ipykernel/kernelbase.py\", line 539, in execute_request\n      self.do_execute(\n    File \"/usr/local/lib/python3.9/dist-packages/tornado/gen.py\", line 234, in wrapper\n      yielded = ctx_run(next, result)\n    File \"/usr/local/lib/python3.9/dist-packages/ipykernel/ipkernel.py\", line 302, in do_execute\n      res = shell.run_cell(code, store_history=store_history, silent=silent)\n    File \"/usr/local/lib/python3.9/dist-packages/ipykernel/zmqshell.py\", line 539, in run_cell\n      return super(ZMQInteractiveShell, self).run_cell(*args, **kwargs)\n    File \"/usr/local/lib/python3.9/dist-packages/IPython/core/interactiveshell.py\", line 2975, in run_cell\n      result = self._run_cell(\n    File \"/usr/local/lib/python3.9/dist-packages/IPython/core/interactiveshell.py\", line 3030, in _run_cell\n      return runner(coro)\n    File \"/usr/local/lib/python3.9/dist-packages/IPython/core/async_helpers.py\", line 78, in _pseudo_sync_runner\n      coro.send(None)\n    File \"/usr/local/lib/python3.9/dist-packages/IPython/core/interactiveshell.py\", line 3257, in run_cell_async\n      has_raised = await self.run_ast_nodes(code_ast.body, cell_name,\n    File \"/usr/local/lib/python3.9/dist-packages/IPython/core/interactiveshell.py\", line 3473, in run_ast_nodes\n      if (await self.run_code(code, result,  async_=asy)):\n    File \"/usr/local/lib/python3.9/dist-packages/IPython/core/interactiveshell.py\", line 3553, in run_code\n      exec(code_obj, self.user_global_ns, self.user_ns)\n    File \"<ipython-input-80-85accc4936ed>\", line 1, in <cell line: 1>\n      model.fit(ds_train,\n    File \"/usr/local/lib/python3.9/dist-packages/keras/utils/traceback_utils.py\", line 65, in error_handler\n      return fn(*args, **kwargs)\n    File \"/usr/local/lib/python3.9/dist-packages/keras/engine/training.py\", line 1685, in fit\n      tmp_logs = self.train_function(iterator)\n    File \"/usr/local/lib/python3.9/dist-packages/keras/engine/training.py\", line 1284, in train_function\n      return step_function(self, iterator)\n    File \"/usr/local/lib/python3.9/dist-packages/keras/engine/training.py\", line 1268, in step_function\n      outputs = model.distribute_strategy.run(run_step, args=(data,))\n    File \"/usr/local/lib/python3.9/dist-packages/keras/engine/training.py\", line 1249, in run_step\n      outputs = model.train_step(data)\n    File \"/usr/local/lib/python3.9/dist-packages/keras/engine/training.py\", line 1050, in train_step\n      y_pred = self(x, training=True)\n    File \"/usr/local/lib/python3.9/dist-packages/keras/utils/traceback_utils.py\", line 65, in error_handler\n      return fn(*args, **kwargs)\n    File \"/usr/local/lib/python3.9/dist-packages/keras/engine/training.py\", line 558, in __call__\n      return super().__call__(*args, **kwargs)\n    File \"/usr/local/lib/python3.9/dist-packages/keras/utils/traceback_utils.py\", line 65, in error_handler\n      return fn(*args, **kwargs)\n    File \"/usr/local/lib/python3.9/dist-packages/keras/engine/base_layer.py\", line 1145, in __call__\n      outputs = call_fn(inputs, *args, **kwargs)\n    File \"/usr/local/lib/python3.9/dist-packages/keras/utils/traceback_utils.py\", line 96, in error_handler\n      return fn(*args, **kwargs)\n    File \"/usr/local/lib/python3.9/dist-packages/keras/engine/sequential.py\", line 412, in call\n      return super().call(inputs, training=training, mask=mask)\n    File \"/usr/local/lib/python3.9/dist-packages/keras/engine/functional.py\", line 512, in call\n      return self._run_internal_graph(inputs, training=training, mask=mask)\n    File \"/usr/local/lib/python3.9/dist-packages/keras/engine/functional.py\", line 669, in _run_internal_graph\n      outputs = node.layer(*args, **kwargs)\n    File \"/usr/local/lib/python3.9/dist-packages/keras/utils/traceback_utils.py\", line 65, in error_handler\n      return fn(*args, **kwargs)\n    File \"/usr/local/lib/python3.9/dist-packages/keras/engine/base_layer.py\", line 1145, in __call__\n      outputs = call_fn(inputs, *args, **kwargs)\n    File \"/usr/local/lib/python3.9/dist-packages/keras/utils/traceback_utils.py\", line 96, in error_handler\n      return fn(*args, **kwargs)\n    File \"/usr/local/lib/python3.9/dist-packages/keras/layers/convolutional/base_conv.py\", line 311, in call\n      outputs = tf.nn.bias_add(\nNode: 'sequential_1/conv2d_2/BiasAdd'\nFused conv implementation does not support grouped convolutions for now.\n\t [[{{node sequential_1/conv2d_2/BiasAdd}}]] [Op:__inference_train_function_2524]"
          ]
        }
      ]
    },
    {
      "cell_type": "markdown",
      "source": [
        "size of cancer cells and progress of patients\n",
        "brightness contrast, window detection iding siz of window. same window to different resolution\n",
        "- feature tracking with TF \n",
        "  - integrating into models, post model or pre-processing\n",
        "\n",
        "- gray scale\n",
        "- UMAP\n",
        "- sharpening and contrast"
      ],
      "metadata": {
        "id": "_Z2cUbJp7Y66"
      }
    },
    {
      "cell_type": "markdown",
      "source": [
        "# Image Pre-Processing\n",
        "\n",
        "tf functions for images: https://www.tensorflow.org/api_docs/python/tf/keras/preprocessing/image"
      ],
      "metadata": {
        "id": "zeetYTzfoDfw"
      }
    },
    {
      "cell_type": "code",
      "source": [],
      "metadata": {
        "id": "f8vfS9X_n2UR"
      },
      "execution_count": null,
      "outputs": []
    },
    {
      "cell_type": "markdown",
      "source": [
        "## Create training and test sets"
      ],
      "metadata": {
        "id": "YFLEiDQPszGm"
      }
    },
    {
      "cell_type": "markdown",
      "source": [
        "# Model Creation"
      ],
      "metadata": {
        "id": "LcP4stAmyLcQ"
      }
    },
    {
      "cell_type": "code",
      "source": [
        "### Baseline TensorFlow model\n",
        "def create_baseline_cnn(inputShape = (460, 700, 3)):\n",
        "  # max_sequence_length, hidden_layers, filters, kernel_size, learning_rate, embedding_size - other parameters excluding for now\n",
        "  \"\"\" \n",
        "  Creating baseline CNN for comparison\n",
        "  \"\"\"\n",
        "  inputs = tf.keras.layers.Input(shape=inputShape, name=\"Input_Layer\")\n",
        "\n",
        "  # Add convolutional layers\n",
        "  x = tf.keras.layers.Conv2D(filters=32, kernel_size=(3,3), padding = \"same\", activation='relu')(inputs)\n",
        "  x = tf.keras.layers.MaxPooling2D(pool_size=(2,2))(x)\n",
        "  x = tf.keras.layers.Conv2D(filters=64, kernel_size=(3,3), activation='relu')(x)\n",
        "  x = tf.keras.layers.MaxPooling2D(pool_size=(2,2))(x)\n",
        "\n",
        "  # Flatten the output from the convolutional layers\n",
        "  x = tf.keras.layers.Flatten()(x)\n",
        "\n",
        "  # Add dense layers for classification\n",
        "  x = tf.keras.layers.Dense(units=128, activation='relu')(x)\n",
        "  outputs = tf.keras.layers.Dense(units=10, activation='softmax')(x)\n",
        "\n",
        "  # Create the model\n",
        "  model = tf.keras.Model(inputs=inputs, outputs=outputs)\n",
        "\n",
        "  return model"
      ],
      "metadata": {
        "id": "W-yCY3Q5GWt7"
      },
      "execution_count": null,
      "outputs": []
    },
    {
      "cell_type": "code",
      "source": [
        "baseModel = create_baseline_cnn()"
      ],
      "metadata": {
        "id": "fSxE6c5Mlnel"
      },
      "execution_count": null,
      "outputs": []
    },
    {
      "cell_type": "markdown",
      "source": [
        "# Paper Model: \n",
        "Input Layer: \n",
        "- some transformations such as mean-subtraction and feature scaling\n",
        "- parameters are (32 x 32 or 64 x 64) and 3 channels for RGB\n",
        "\n",
        "Convolution Layers:\n",
        "- (kernels) are of size 5 × 5, the zero-padding is set to 2 and the stride is set to 1. \n",
        "- first two convolutional layers learn 32 filters, initialized from Gaussian Distribution with SD of 0.0001 and 0.01 respectively\n",
        "- last layer learns 64 filters and intialized from Gaussian distribution with SD of 0.0001\n",
        "\n",
        "Pooling Layers: \n",
        "- responsible for down sampling spatial dimension of input\n",
        "- one after each convolution layer\n",
        "- 3 x 3 receptive field with stride of 2 \n",
        "- first uses max operation over receptive field and other two are average pooling\n",
        "\n",
        "ReLU Layers: \n",
        "- Treating as a layer\n",
        "- Given an input value x, the ReLU layer computes the neuron’s output f(x) as x if x > 0 and (α × x) if x <= 0. The parameter α specifies whether to leak the negative part by multiplying it with the slope value (0.01 or so) rather than setting it to 0.\n",
        "- default α is 0. When not set, $f(x) = max(0,x)$ aka activation threshold at zero\n",
        "\n",
        "Inner-product layers (fully connected layers): \n",
        "- input treated as vector and produce output in form of single vector\n",
        "- two inner-product layers\n",
        "- the last is a fully-connected output layer with softmax activation and depends on number of classes for classification problem 2 for binary classification\n"
      ],
      "metadata": {
        "id": "wnQ4d_EziVfG"
      }
    },
    {
      "cell_type": "code",
      "source": [
        "inputShape = (32, 32, 3)\n",
        "\n",
        "inputs = tf.keras.layers.Input(shape=inputShape, name=\"Input_Layer\")\n",
        "\n",
        "# Add convolutional layers\n",
        "x = tf.keras.layers.Conv2D(filters=32, kernel_size=(5,5), strides = (1,1), activation='relu')(inputs)\n",
        "x = tf.keras.layers.MaxPooling2D(pool_size=(2,2))(x)\n",
        "x = tf.keras.layers.Conv2D(filters=64, kernel_size=(3,3), activation='relu')(x)\n",
        "x = tf.keras.layers.MaxPooling2D(pool_size=(2,2))(x)\n",
        "\n",
        "# Flatten the output from the convolutional layers\n",
        "x = tf.keras.layers.Flatten()(x)\n",
        "\n",
        "# Add dense layers for classification\n",
        "x = tf.keras.layers.Dense(units=128, activation='relu')(x)\n",
        "outputs = tf.keras.layers.Dense(units=10, activation='softmax')(x)\n",
        "\n",
        "# Create the model\n",
        "model = tf.keras.Model(inputs=inputs, outputs=outputs)"
      ],
      "metadata": {
        "id": "qY7dX3hWiTc7"
      },
      "execution_count": null,
      "outputs": []
    },
    {
      "cell_type": "markdown",
      "source": [
        "The main idea is to extract from the high resolution\n",
        "images patches with sizes that are close to those of the CIFAR\n",
        "dataset. Since we are dealing with textures, the main premise is\n",
        "that these patches can contain enough information for training\n",
        "a model, provided an appropriate set of patches is extracted\n",
        "from each image. \n",
        "\n",
        "Two Strategies: \n",
        "1. 32 x 32 window with 50% overlap\n",
        "2. 64 x 64 window with no overlap and random sampling on image"
      ],
      "metadata": {
        "id": "VyInn5AXlc8q"
      }
    },
    {
      "cell_type": "code",
      "source": [
        "learningRate = 1E-6"
      ],
      "metadata": {
        "id": "5ub4kWFtyu18"
      },
      "execution_count": null,
      "outputs": []
    },
    {
      "cell_type": "code",
      "source": [
        "momentumTerm = 0.9"
      ],
      "metadata": {
        "id": "qdDtIrDqnt6K"
      },
      "execution_count": null,
      "outputs": []
    },
    {
      "cell_type": "code",
      "source": [
        "weightDecay = 4e-5"
      ],
      "metadata": {
        "id": "r8bgJXCrnyCF"
      },
      "execution_count": null,
      "outputs": []
    },
    {
      "cell_type": "code",
      "source": [
        "iterations = 8e5"
      ],
      "metadata": {
        "id": "f-5Pz-JLn0pg"
      },
      "execution_count": null,
      "outputs": []
    },
    {
      "cell_type": "markdown",
      "source": [
        "# Creating Model"
      ],
      "metadata": {
        "id": "f5ODxfuqp1Sc"
      }
    },
    {
      "cell_type": "code",
      "source": [
        "import tensorflow as tf\n",
        "\n",
        "# Load the CIFAR-10 dataset\n",
        "(x_train, y_train), (x_test, y_test) = tf.keras.datasets.cifar10.load_data()\n",
        "\n",
        "# Normalize the pixel values\n",
        "x_train = x_train.astype(\"float32\") / 255.0\n",
        "x_test = x_test.astype(\"float32\") / 255.0\n",
        "\n",
        "# Convert the labels to one-hot encoding\n",
        "y_train = tf.keras.utils.to_categorical(y_train, num_classes=2)\n",
        "y_test = tf.keras.utils.to_categorical(y_test, num_classes=2)\n",
        "\n",
        "# Define the model architecture\n",
        "model = tf.keras.Sequential([\n",
        "    tf.keras.layers.Conv2D(32, (3,3), activation=\"relu\", input_shape=(32,32,3)),\n",
        "    tf.keras.layers.MaxPooling2D((2,2)),\n",
        "    tf.keras.layers.Conv2D(64, (3,3), activation=\"relu\"),\n",
        "    tf.keras.layers.MaxPooling2D((2,2)),\n",
        "    tf.keras.layers.Conv2D(64, (3,3), activation=\"relu\"),\n",
        "    tf.keras.layers.Flatten(),\n",
        "    tf.keras.layers.Dense(64, activation=\"relu\"),\n",
        "    tf.keras.layers.Dense(10, activation=\"softmax\")\n",
        "])\n",
        "\n",
        "# Compile the model\n",
        "model.compile(optimizer=\"adam\",\n",
        "              loss=\"categorical_crossentropy\",\n",
        "              metrics=[\"accuracy\"])\n",
        "\n",
        "# Train the model\n",
        "history = model.fit(x_train, y_train, epochs=10, batch_size=64, validation_split=0.2)\n",
        "\n",
        "# Evaluate the model on the test set\n",
        "test_loss, test_acc = model.evaluate(x_test, y_test)\n",
        "print(\"Test accuracy:\", test_acc)\n"
      ],
      "metadata": {
        "id": "59JGBHENr29o"
      },
      "execution_count": null,
      "outputs": []
    },
    {
      "cell_type": "code",
      "source": [
        "# Define the callback to save the model weights\n",
        "checkpoint_path = \"model_checkpoint.h5\"\n",
        "checkpoint_callback = tf.keras.callbacks.ModelCheckpoint(\n",
        "    filepath=checkpoint_path,\n",
        "    save_weights_only=True,\n",
        "    monitor=\"val_accuracy\",\n",
        "    save_best_only=True,\n",
        "    verbose=1\n",
        ")\n",
        "\n",
        "# Train the model with the callback\n",
        "history = model.fit(\n",
        "    x_train, y_train,\n",
        "    epochs=10,\n",
        "    batch_size=32,\n",
        "    validation_data=(x_val, y_val),\n",
        "    callbacks=[checkpoint_callback]\n",
        ")\n",
        "\n",
        "# Load the best model weights from the checkpoint\n",
        "model.load_weights(checkpoint_path)"
      ],
      "metadata": {
        "id": "x9YIGJgasYc8"
      },
      "execution_count": null,
      "outputs": []
    },
    {
      "cell_type": "markdown",
      "source": [
        "# Model Performance\n",
        "\n",
        "\n",
        "$\\text{Patient Score} = \\frac{N_{rec}}{N_p}$  \n",
        "\n",
        "## Global Patient Recognition Rate\n",
        "$\\text{Patient Recognition Rate} = \\frac{\\Sigma Patient Score}{Total Number of Patients}$\n",
        "\n",
        "$\\text{Image Recognition Rate} = \\frac{N_{rec}}{N_{all}}$ \n",
        "\n",
        "\n"
      ],
      "metadata": {
        "id": "0f9RRgKZpkug"
      }
    },
    {
      "cell_type": "markdown",
      "source": [],
      "metadata": {
        "id": "7bp_hXlMr2KO"
      }
    },
    {
      "cell_type": "code",
      "source": [],
      "metadata": {
        "id": "V_0Bjxnnpkdn"
      },
      "execution_count": null,
      "outputs": []
    }
  ]
}