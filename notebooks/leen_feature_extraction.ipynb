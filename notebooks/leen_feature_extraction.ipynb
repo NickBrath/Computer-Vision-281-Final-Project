{
 "cells": [
  {
   "cell_type": "code",
   "execution_count": null,
   "metadata": {},
   "outputs": [],
   "source": []
  },
  {
   "attachments": {},
   "cell_type": "markdown",
   "metadata": {},
   "source": [
    "# Features to create from main paper\n",
    "- local binary patterns (17) (LBP)\n",
    "- completed LBP\n",
    "- local phase quantization (LPQ)\n",
    "- gray-level co-occurance matric (CLCM\n",
    "- threshold adjacency statistics (TAS)"
   ]
  },
  {
   "cell_type": "markdown",
   "metadata": {},
   "source": []
  }
 ],
 "metadata": {
  "language_info": {
   "name": "python"
  },
  "orig_nbformat": 4
 },
 "nbformat": 4,
 "nbformat_minor": 2
}
